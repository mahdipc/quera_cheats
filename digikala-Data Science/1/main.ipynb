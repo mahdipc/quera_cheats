{
 "cells": [
  {
   "cell_type": "code",
   "execution_count": 3,
   "metadata": {},
   "outputs": [],
   "source": [
    "data_path=\"data\"\n",
    "import pandas as pd\n",
    "import numpy as np\n",
    "import matplotlib.pyplot as plt\n",
    "import seaborn as sns\n"
   ]
  },
  {
   "cell_type": "code",
   "execution_count": 4,
   "metadata": {},
   "outputs": [],
   "source": [
    "df_train=pd.read_csv(data_path+\"/train.csv\")\n",
    "df_test=pd.read_csv(data_path+\"/test.csv\")"
   ]
  },
  {
   "cell_type": "code",
   "execution_count": 24,
   "metadata": {},
   "outputs": [],
   "source": [
    "st=df_train.iloc[15].product_description"
   ]
  },
  {
   "cell_type": "code",
   "execution_count": 25,
   "metadata": {},
   "outputs": [
    {
     "data": {
      "text/plain": [
       "[\"{'ابعاد': '20 × 3.8 × 17.3 سانتی\\\\u200cمتر'\",\n",
       " \" 'وزن': 'قابل\\\\u200cتعویض'\",\n",
       " \" 'قابلیت\\\\u200cهای گام\\\\u200cشمار': ['مقاوم در برابر آب']\",\n",
       " \" 'مشخصات باتری': 'حداکثر 200 ساعت شارژدهی در دمای 20 درجه سانتیگراد'\",\n",
       " \" 'نرم افزار یا اپلیکیشن سازگار': 'ندارد'\",\n",
       " \" 'سایر امکانات': '- قابلیت نشان دادن سرعت\\\\r\\\\n- بسته شدن بر روی کفش بدون باز شدن بند\\\\r\\\\n- میزان مقاومت در برابر آب: پاشیدن آب\\\\r\\\\n- برای استفاده از این گام\\\\u200cشمار، ساعت نمایش ضربان قلب بیورر نیز باید به شکل جداگانه تهیه شود.'\",\n",
       " \" 'دسته بندی': 'گام شمار'\",\n",
       " \" 'برند': 'بیورر'}\"]"
      ]
     },
     "execution_count": 25,
     "metadata": {},
     "output_type": "execute_result"
    }
   ],
   "source": [
    "st.split(\",\")"
   ]
  },
  {
   "cell_type": "code",
   "execution_count": null,
   "metadata": {},
   "outputs": [],
   "source": [
    "\"{'کارکرد': 'در دستگاه های ریسوگراف', 'دستگاه\\\\u200cهای سازگار': 'RZ 230 - EZ 230', 'سایر توضیحات': 'سایز B4\\\\r\\\\nمدل RZ\\\\\\\\/EZ\\\\r\\\\nدر متراژ 109 متری', 'حجم': 'm109', 'دسته بندی': 'ریسوگراف', 'برند': 'متفرقه'}\""
   ]
  },
  {
   "cell_type": "code",
   "execution_count": 31,
   "metadata": {},
   "outputs": [
    {
     "data": {
      "text/plain": [
       "[\"{'نوع کابل': ['USB 2.0']\",\n",
       " \" 'طول کابل': 'روکش نقره'\",\n",
       " \" 'دسته بندی': 'کابل افزایش طول'\",\n",
       " \" 'برند': 'دیتالایف'}\"]"
      ]
     },
     "execution_count": 31,
     "metadata": {},
     "output_type": "execute_result"
    }
   ],
   "source": [
    "df_test.iloc[105].product_description.split(\",\")"
   ]
  },
  {
   "cell_type": "code",
   "execution_count": null,
   "metadata": {},
   "outputs": [],
   "source": []
  }
 ],
 "metadata": {
  "interpreter": {
   "hash": "9ec957caba7ae6ccc97a7fb0804bf14cbdb1f70a4904cd45a06dd27fe16a3b19"
  },
  "kernelspec": {
   "display_name": "Python 3.8.5 ('tensorflow')",
   "language": "python",
   "name": "python3"
  },
  "language_info": {
   "codemirror_mode": {
    "name": "ipython",
    "version": 3
   },
   "file_extension": ".py",
   "mimetype": "text/x-python",
   "name": "python",
   "nbconvert_exporter": "python",
   "pygments_lexer": "ipython3",
   "version": "3.8.5"
  },
  "orig_nbformat": 4
 },
 "nbformat": 4,
 "nbformat_minor": 2
}
