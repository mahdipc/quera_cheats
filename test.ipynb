{
 "cells": [
  {
   "cell_type": "code",
   "execution_count": 4,
   "metadata": {},
   "outputs": [
    {
     "data": {
      "text/plain": [
       "[2, 3, 4]"
      ]
     },
     "execution_count": 4,
     "metadata": {},
     "output_type": "execute_result"
    }
   ],
   "source": [
    "a=[1,2,3,4]\n",
    "a.pop(0)\n",
    "a\n"
   ]
  },
  {
   "cell_type": "code",
   "execution_count": 38,
   "metadata": {},
   "outputs": [
    {
     "name": "stdout",
     "output_type": "stream",
     "text": [
      "hhpwwwBbTTTTnnP"
     ]
    },
    {
     "data": {
      "text/plain": [
       "['h', 'h', 'p', 'w', 'w', 'w', 'B', 'b', 'T', 'T', 'T', 'T', 'n', 'n', 'P']"
      ]
     },
     "execution_count": 38,
     "metadata": {},
     "output_type": "execute_result"
    }
   ],
   "source": [
    "st=\"hhpwwwBbTTTTnnP\"\n",
    "\n",
    "\n",
    "\n",
    "\n"
   ]
  },
  {
   "cell_type": "code",
   "execution_count": 22,
   "metadata": {},
   "outputs": [
    {
     "name": "stdout",
     "output_type": "stream",
     "text": [
      "13MiB\n"
     ]
    }
   ],
   "source": [
    "st = [29,1401,14510629]\n",
    "val = [\"B\", \"KiB\", \"MiB\", \"GiB\", \"TiB\"]\n",
    "item=st[2]\n",
    "res=item//1024\n",
    "state=0\n",
    "while res>0:\n",
    "    res=res//1024\n",
    "    state +=1\n",
    "print(item//(1024**state),val[state],sep=\"\")\n",
    "\n"
   ]
  },
  {
   "cell_type": "code",
   "execution_count": 19,
   "metadata": {},
   "outputs": [
    {
     "data": {
      "text/plain": [
       "1"
      ]
     },
     "execution_count": 19,
     "metadata": {},
     "output_type": "execute_result"
    }
   ],
   "source": [
    "1401//1024\n"
   ]
  },
  {
   "cell_type": "code",
   "execution_count": null,
   "metadata": {},
   "outputs": [],
   "source": [
    "# for item in st:\n",
    "#     state = 0\n",
    "#     r = item//1024\n",
    "#     while r > 1024:\n",
    "#         r = r//1024\n",
    "#         state += 1\n",
    "#     print(str(item % (1024*(state+1)))+val[state])"
   ]
  }
 ],
 "metadata": {
  "kernelspec": {
   "display_name": "Python 3.9.12 ('tensor')",
   "language": "python",
   "name": "python3"
  },
  "language_info": {
   "codemirror_mode": {
    "name": "ipython",
    "version": 3
   },
   "file_extension": ".py",
   "mimetype": "text/x-python",
   "name": "python",
   "nbconvert_exporter": "python",
   "pygments_lexer": "ipython3",
   "version": "3.9.12"
  },
  "orig_nbformat": 2,
  "vscode": {
   "interpreter": {
    "hash": "12c650643e16747a4475660a765421e87e5c4c2d62ec183f9a7fc3b37455d94e"
   }
  }
 },
 "nbformat": 4,
 "nbformat_minor": 2
}
