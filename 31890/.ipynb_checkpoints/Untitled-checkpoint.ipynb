{
 "cells": [
  {
   "cell_type": "code",
   "execution_count": 6,
   "metadata": {},
   "outputs": [],
   "source": [
    "state=['agar 2 == 2 : A = 3',\n",
    "'agar 3 == 4 : B = 1',\n",
    "'khoorooji(A)']\n",
    "inputs=[]"
   ]
  },
  {
   "cell_type": "code",
   "execution_count": 70,
   "metadata": {},
   "outputs": [],
   "source": [
    "state=['A = 3',\n",
    "'B = voroodi()',\n",
    "'C = A + B',\n",
    "'khoorooji(10)',\n",
    "'khoorooji(C, 2)']\n",
    "inputs=[3]"
   ]
  },
  {
   "cell_type": "code",
   "execution_count": 72,
   "metadata": {},
   "outputs": [],
   "source": [
    "state=['A = voroodi()',\n",
    "'agar A == 2 : A = A + 2',\n",
    "'khoorooji(A)'\n",
    "]\n",
    "inputs=[2]"
   ]
  },
  {
   "cell_type": "code",
   "execution_count": 73,
   "metadata": {},
   "outputs": [
    {
     "name": "stdout",
     "output_type": "stream",
     "text": [
      "agar A\n",
      "4\n",
      "3\n"
     ]
    }
   ],
   "source": [
    "\n",
    "counter=[]\n",
    "def NotcheckCounter(item):\n",
    "    return ~(item in counter)\n",
    "    \n",
    "def changeFunc(item):\n",
    "    if item.find('voroodi()') != -1:\n",
    "        st_item=item.split('=')[0].strip()\n",
    "        if NotcheckCounter(st_item):\n",
    "            counter.append(st_item)\n",
    "        item = item.replace('voroodi()', 'int('+str(inputs[0])+')')\n",
    "        inputs.pop(0)\n",
    "    elif item.find('khoorooji') != -1:\n",
    "        item = item.replace('khoorooji', 'print')\n",
    "\n",
    "    elif item.find('agar') != -1:\n",
    "        item = item.replace('agar', 'if').replace(':', ':\\n\\t')\n",
    "        st_item=item.split(':')[1].strip().split('=')[0].strip()\n",
    "        print(\"agar \"+st_item)\n",
    "        if NotcheckCounter(st_item):\n",
    "            item+='\\n\\t s+=1'\n",
    "\n",
    "    elif item.find('=') != -1:\n",
    "        st_item=item.split('=')[0].strip()\n",
    "        if NotcheckCounter(st_item):\n",
    "            counter.append(st_item)\n",
    "\n",
    "    return item\n",
    "s=0\n",
    "statements = [changeFunc(item) for item in state]\n",
    "exec('\\n'.join(statements))\n",
    "print(len(counter)+s)\n"
   ]
  },
  {
   "cell_type": "code",
   "execution_count": 66,
   "metadata": {},
   "outputs": [
    {
     "data": {
      "text/plain": [
       "1"
      ]
     },
     "execution_count": 66,
     "metadata": {},
     "output_type": "execute_result"
    }
   ],
   "source": [
    "s"
   ]
  },
  {
   "cell_type": "code",
   "execution_count": 18,
   "metadata": {},
   "outputs": [
    {
     "data": {
      "text/plain": [
       "0"
      ]
     },
     "execution_count": 18,
     "metadata": {},
     "output_type": "execute_result"
    }
   ],
   "source": [
    "s"
   ]
  },
  {
   "cell_type": "code",
   "execution_count": null,
   "metadata": {},
   "outputs": [],
   "source": []
  }
 ],
 "metadata": {
  "kernelspec": {
   "display_name": "Python 3",
   "language": "python",
   "name": "python3"
  },
  "language_info": {
   "codemirror_mode": {
    "name": "ipython",
    "version": 3
   },
   "file_extension": ".py",
   "mimetype": "text/x-python",
   "name": "python",
   "nbconvert_exporter": "python",
   "pygments_lexer": "ipython3",
   "version": "3.7.9"
  }
 },
 "nbformat": 4,
 "nbformat_minor": 4
}
