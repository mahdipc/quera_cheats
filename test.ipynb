{
 "cells": [
  {
   "cell_type": "code",
   "execution_count": 4,
   "metadata": {},
   "outputs": [
    {
     "name": "stdout",
     "output_type": "stream",
     "text": [
      "[[1, 1], [1, 1], [1, 2], [1, 2], [1, 3], [1, 3], [1, 4]]\n",
      "4\n"
     ]
    }
   ],
   "source": [
    "def count(S, m, n):\n",
    "    # We need n+1 rows as the table is constructed \n",
    "    # in bottom up manner using the base case 0 value\n",
    "    # case (n = 0)\n",
    "    table = [[0 for x in range(m)] for x in range(n+1)]\n",
    "  \n",
    "    # Fill the entries for 0 value case (n = 0)\n",
    "    for i in range(m):\n",
    "        table[0][i] = 1\n",
    "  \n",
    "    # Fill rest of the table entries in bottom up manner\n",
    "    for i in range(1, n+1):\n",
    "        for j in range(m):\n",
    "            x = table[i - S[j]][j] if i-S[j] >= 0 else 0\n",
    "            y = table[i][j-1] if j >= 1 else 0\n",
    "            table[i][j] = x + y\n",
    "    print(table)\n",
    "    return table[n][m-1]\n",
    "  \n",
    "# Driver program to test above function\n",
    "arr = [1, 2, 3]\n",
    "m = 2\n",
    "n = 6\n",
    "print(count(arr, m, n))"
   ]
  },
  {
   "cell_type": "code",
   "execution_count": 10,
   "metadata": {},
   "outputs": [
    {
     "name": "stdout",
     "output_type": "stream",
     "text": [
      "[1, 1, 2, 3, 4, 5]\n",
      "5\n"
     ]
    }
   ],
   "source": [
    "import math\n",
    "def change( coins,amount) :\n",
    "    dp = [0]*(amount+1)\n",
    "    dp[0] = 1\n",
    "    for coin in coins:\n",
    "        for i in range(coin, amount+1):\n",
    "            dp[i] += dp[i-coin]\n",
    "    return dp[-1]\n",
    "coins = [1, 2, 3]\n",
    "amount = 5\n",
    "print(change(coins, amount))   "
   ]
  },
  {
   "cell_type": "code",
   "execution_count": 23,
   "metadata": {},
   "outputs": [
    {
     "data": {
      "text/plain": [
       "-2"
      ]
     },
     "execution_count": 23,
     "metadata": {},
     "output_type": "execute_result"
    }
   ],
   "source": [
    "ord('a')-ord('c')"
   ]
  },
  {
   "cell_type": "code",
   "execution_count": 24,
   "metadata": {},
   "outputs": [
    {
     "data": {
      "text/plain": [
       "4"
      ]
     },
     "execution_count": 24,
     "metadata": {},
     "output_type": "execute_result"
    }
   ],
   "source": [
    "9//2"
   ]
  },
  {
   "cell_type": "code",
   "execution_count": 28,
   "metadata": {},
   "outputs": [
    {
     "data": {
      "text/plain": [
       "'d'"
      ]
     },
     "execution_count": 28,
     "metadata": {},
     "output_type": "execute_result"
    }
   ],
   "source": [
    "chr(ord('a')+3)"
   ]
  },
  {
   "cell_type": "code",
   "execution_count": 32,
   "metadata": {},
   "outputs": [
    {
     "data": {
      "text/plain": [
       "97"
      ]
     },
     "execution_count": 32,
     "metadata": {},
     "output_type": "execute_result"
    }
   ],
   "source": [
    "ord('a')"
   ]
  },
  {
   "cell_type": "code",
   "execution_count": 2,
   "metadata": {},
   "outputs": [
    {
     "name": "stdout",
     "output_type": "stream",
     "text": [
      "jkvbp\n",
      "hibzp\n"
     ]
    }
   ],
   "source": [
    "def hash(st, b, m):\n",
    "    ret = 0\n",
    "    for i in range(len(st)):\n",
    "        ret = (ret * b + (ord(st[i]) - ord('a'))) % m\n",
    "    return ret\n",
    "\n",
    "n = 5\n",
    "b = 26\n",
    "m = 2000\n",
    "import random\n",
    "\n",
    "def hash(st, b, m):\n",
    "    ret = 0\n",
    "    for i in range(len(st)):\n",
    "        ret = (ret * b + (ord(st[i]) - ord('a'))) % m\n",
    "    return ret\n",
    "\n",
    "\n",
    "alpha = list('abcdefghijklmnopqrstuvwxyz')\n",
    "while True:\n",
    "    random.shuffle(alpha)\n",
    "    s = ''.join([alpha[random.randint(0, len(alpha)-1)] for i in range(n)])\n",
    "    t = ''.join([alpha[random.randint(0, len(alpha)-1)] for i in range(n)])\n",
    "\n",
    "    if hash(s, b, m) == hash(t, b, m):\n",
    "        break\n",
    "print(s)\n",
    "print(t)\n"
   ]
  },
  {
   "cell_type": "code",
   "execution_count": 3,
   "metadata": {},
   "outputs": [
    {
     "data": {
      "text/plain": [
       "True"
      ]
     },
     "execution_count": 3,
     "metadata": {},
     "output_type": "execute_result"
    }
   ],
   "source": [
    "hash('aaaaaaaafx',10,50) == hash('fffffffffx', 10, 50)"
   ]
  },
  {
   "cell_type": "code",
   "execution_count": null,
   "metadata": {},
   "outputs": [],
   "source": []
  }
 ],
 "metadata": {
  "interpreter": {
   "hash": "b3ba2566441a7c06988d0923437866b63cedc61552a5af99d1f4fb67d367b25f"
  },
  "kernelspec": {
   "display_name": "Python 3.7.9 64-bit ('base': conda)",
   "name": "python3"
  },
  "language_info": {
   "codemirror_mode": {
    "name": "ipython",
    "version": 3
   },
   "file_extension": ".py",
   "mimetype": "text/x-python",
   "name": "python",
   "nbconvert_exporter": "python",
   "pygments_lexer": "ipython3",
   "version": "3.7.9"
  },
  "orig_nbformat": 2
 },
 "nbformat": 4,
 "nbformat_minor": 2
}
