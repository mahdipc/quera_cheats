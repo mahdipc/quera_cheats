{
 "cells": [
  {
   "cell_type": "code",
   "execution_count": 4,
   "metadata": {},
   "outputs": [
    {
     "name": "stdout",
     "output_type": "stream",
     "text": [
      "[[1, 1], [1, 1], [1, 2], [1, 2], [1, 3], [1, 3], [1, 4]]\n",
      "4\n"
     ]
    }
   ],
   "source": [
    "def count(S, m, n):\n",
    "    # We need n+1 rows as the table is constructed \n",
    "    # in bottom up manner using the base case 0 value\n",
    "    # case (n = 0)\n",
    "    table = [[0 for x in range(m)] for x in range(n+1)]\n",
    "  \n",
    "    # Fill the entries for 0 value case (n = 0)\n",
    "    for i in range(m):\n",
    "        table[0][i] = 1\n",
    "  \n",
    "    # Fill rest of the table entries in bottom up manner\n",
    "    for i in range(1, n+1):\n",
    "        for j in range(m):\n",
    "            x = table[i - S[j]][j] if i-S[j] >= 0 else 0\n",
    "            y = table[i][j-1] if j >= 1 else 0\n",
    "            table[i][j] = x + y\n",
    "    print(table)\n",
    "    return table[n][m-1]\n",
    "  \n",
    "# Driver program to test above function\n",
    "arr = [1, 2, 3]\n",
    "m = 2\n",
    "n = 6\n",
    "print(count(arr, m, n))"
   ]
  },
  {
   "cell_type": "code",
   "execution_count": 10,
   "metadata": {},
   "outputs": [
    {
     "name": "stdout",
     "output_type": "stream",
     "text": [
      "[1, 1, 2, 3, 4, 5]\n",
      "5\n"
     ]
    }
   ],
   "source": [
    "import math\n",
    "def change( coins,amount) :\n",
    "    dp = [0]*(amount+1)\n",
    "    dp[0] = 1\n",
    "    for coin in coins:\n",
    "        for i in range(coin, amount+1):\n",
    "            dp[i] += dp[i-coin]\n",
    "    return dp[-1]\n",
    "coins = [1, 2, 3]\n",
    "amount = 5\n",
    "print(change(coins, amount))   "
   ]
  },
  {
   "cell_type": "code",
   "execution_count": 23,
   "metadata": {},
   "outputs": [
    {
     "data": {
      "text/plain": [
       "-2"
      ]
     },
     "execution_count": 23,
     "metadata": {},
     "output_type": "execute_result"
    }
   ],
   "source": [
    "ord('a')-ord('c')"
   ]
  },
  {
   "cell_type": "code",
   "execution_count": 24,
   "metadata": {},
   "outputs": [
    {
     "data": {
      "text/plain": [
       "4"
      ]
     },
     "execution_count": 24,
     "metadata": {},
     "output_type": "execute_result"
    }
   ],
   "source": [
    "9//2"
   ]
  },
  {
   "cell_type": "code",
   "execution_count": 28,
   "metadata": {},
   "outputs": [
    {
     "data": {
      "text/plain": [
       "'d'"
      ]
     },
     "execution_count": 28,
     "metadata": {},
     "output_type": "execute_result"
    }
   ],
   "source": [
    "chr(ord('a')+3)"
   ]
  },
  {
   "cell_type": "code",
   "execution_count": 32,
   "metadata": {},
   "outputs": [
    {
     "data": {
      "text/plain": [
       "97"
      ]
     },
     "execution_count": 32,
     "metadata": {},
     "output_type": "execute_result"
    }
   ],
   "source": [
    "ord('a')"
   ]
  },
  {
   "cell_type": "code",
   "execution_count": 3,
   "metadata": {},
   "outputs": [
    {
     "data": {
      "text/plain": [
       "True"
      ]
     },
     "execution_count": 3,
     "metadata": {},
     "output_type": "execute_result"
    }
   ],
   "source": [
    "hash('aaaaaaaafx',10,50) == hash('fffffffffx', 10, 50)"
   ]
  },
  {
   "cell_type": "code",
   "execution_count": 11,
   "metadata": {},
   "outputs": [
    {
     "data": {
      "text/plain": [
       "'1000'"
      ]
     },
     "execution_count": 11,
     "metadata": {},
     "output_type": "execute_result"
    }
   ],
   "source": [
    "def baseOn(n,b):\n",
    "    sign = '-' if n<0 else ''\n",
    "    s = ''\n",
    "    while n != 0:\n",
    "         s = str(n%b) + s\n",
    "         n = n//b\n",
    "    return sign+s\n",
    "baseOn(27,3)"
   ]
  },
  {
   "cell_type": "code",
   "execution_count": 7,
   "metadata": {},
   "outputs": [
    {
     "data": {
      "text/plain": [
       "0"
      ]
     },
     "execution_count": 7,
     "metadata": {},
     "output_type": "execute_result"
    }
   ],
   "source": [
    "27%9"
   ]
  },
  {
   "cell_type": "code",
   "execution_count": 16,
   "metadata": {},
   "outputs": [
    {
     "data": {
      "text/plain": [
       "-4"
      ]
     },
     "execution_count": 16,
     "metadata": {},
     "output_type": "execute_result"
    }
   ],
   "source": [
    "def calculator(n, m, li):\n",
    "    sm=0\n",
    "    j=0\n",
    "    for i in range(0,n,m):\n",
    "        sm+=(-1)**j*sum(li[i:i+m])\n",
    "        j+=1\n",
    "\n",
    "    return sm\n",
    "calculator(8, 1, [1, 2, 3, 4, 5, 6, 7, 8])"
   ]
  },
  {
   "cell_type": "code",
   "execution_count": 5,
   "metadata": {},
   "outputs": [
    {
     "ename": "ErrorException",
     "evalue": "syntax: character literal contains multiple characters",
     "output_type": "error",
     "traceback": [
      "syntax: character literal contains multiple characters\n",
      "\n",
      "Stacktrace:\n",
      " [1] top-level scope at g:\\Codes\\quera\\test.ipynb:1"
     ]
    }
   ],
   "source": [
    "x='156'\n",
    "\n"
   ]
  },
  {
   "cell_type": "code",
   "execution_count": 4,
   "metadata": {},
   "outputs": [
    {
     "ename": "UndefVarError",
     "evalue": "UndefVarError: x not defined",
     "output_type": "error",
     "traceback": [
      "UndefVarError: x not defined\n"
     ]
    }
   ],
   "source": [
    "x"
   ]
  },
  {
   "cell_type": "code",
   "execution_count": 7,
   "metadata": {},
   "outputs": [],
   "source": [
    "import pandas as pd\n",
    "import numpy as np\n",
    "dictionary = {\"key1\":[],\"key2\":[]}\n",
    "parse_value1=[\"value1\",\"value2\",\"value3\"]\n",
    "parse_value2=[\"value4\",\"value5\",\"value6\"]\n",
    "dictionary[\"key1\"].extend(parse_value1)\n",
    "dictionary[\"key2\"].extend(parse_value2)\n",
    "dictionary_to_df  =pd.DataFrame.from_dict(dictionary)\n",
    "dictionary_to_df.to_csv(\"test.csv\",mode = \"a\",index = False, header = True)\n"
   ]
  },
  {
   "cell_type": "code",
   "execution_count": 8,
   "metadata": {},
   "outputs": [],
   "source": [
    "n = 4\n",
    "\n",
    "\n",
    "def arrSplit(arr, item):\n",
    "    item=int(item)\n",
    "    return int(arr[1:-1].split(',')[item])\n",
    "\n",
    "ss=['a := [1, 2, 3]',\n",
    "'b := {\"2\": 1, \"1\": 4, \"4\": 5}',\n",
    "'print a[1]',\n",
    "'print b[\"1\"]']\n",
    "prints = {}\n",
    "operators = {}\n",
    "for i in range(n):\n",
    "    s = ss[i]\n",
    "    if 'print' in s:\n",
    "        var, id = s[6:].split('[')\n",
    "        prints[var.strip()] = id[:-1].strip()\n",
    "    else:\n",
    "        var, id = s.split(':=')\n",
    "        operators[var.strip()] = id.strip()\n",
    "\n"
   ]
  },
  {
   "cell_type": "code",
   "execution_count": 9,
   "metadata": {},
   "outputs": [
    {
     "name": "stdout",
     "output_type": "stream",
     "text": [
      "2\n"
     ]
    }
   ],
   "source": [
    "for p in prints:\n",
    "    o = operators[p]\n",
    "\n",
    "    if o[0] == '[':\n",
    "        print(arrSplit(o,prints[p]))"
   ]
  },
  {
   "cell_type": "code",
   "execution_count": 9,
   "metadata": {},
   "outputs": [
    {
     "data": {
      "text/plain": [
       "0.00913852259360126"
      ]
     },
     "execution_count": 9,
     "metadata": {},
     "output_type": "execute_result"
    }
   ],
   "source": [
    "import numpy as np\n",
    "k=2\n",
    "np.arcsin(1/k)*np.pi/180"
   ]
  },
  {
   "cell_type": "code",
   "execution_count": 14,
   "metadata": {},
   "outputs": [
    {
     "data": {
      "text/plain": [
       "30.000000000000004"
      ]
     },
     "execution_count": 14,
     "metadata": {},
     "output_type": "execute_result"
    }
   ],
   "source": [
    "np.arcsin(1/k)/np.pi*180"
   ]
  },
  {
   "cell_type": "code",
   "execution_count": 15,
   "metadata": {},
   "outputs": [
    {
     "data": {
      "text/plain": [
       "-0.9880316240928618"
      ]
     },
     "execution_count": 15,
     "metadata": {},
     "output_type": "execute_result"
    }
   ],
   "source": [
    "np.sin(30)"
   ]
  },
  {
   "cell_type": "code",
   "execution_count": null,
   "metadata": {},
   "outputs": [],
   "source": []
  }
 ],
 "metadata": {
  "interpreter": {
   "hash": "ee6ef56facda7503055c4941e2c2083c4bcc9ecb08a66ac58f56d3b05ea5e5fc"
  },
  "kernelspec": {
   "display_name": "Python 3.8.5 ('tensorflow')",
   "language": "python",
   "name": "python3"
  },
  "language_info": {
   "codemirror_mode": {
    "name": "ipython",
    "version": 3
   },
   "file_extension": ".py",
   "mimetype": "text/x-python",
   "name": "python",
   "nbconvert_exporter": "python",
   "pygments_lexer": "ipython3",
   "version": "3.8.5"
  },
  "orig_nbformat": 2
 },
 "nbformat": 4,
 "nbformat_minor": 2
}
