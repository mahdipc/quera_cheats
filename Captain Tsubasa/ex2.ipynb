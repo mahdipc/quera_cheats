{
 "metadata": {
  "language_info": {
   "codemirror_mode": {
    "name": "ipython",
    "version": 3
   },
   "file_extension": ".py",
   "mimetype": "text/x-python",
   "name": "python",
   "nbconvert_exporter": "python",
   "pygments_lexer": "ipython3",
   "version": "3.8.5"
  },
  "orig_nbformat": 2,
  "kernelspec": {
   "name": "python385jvsc74a57bd09ec957caba7ae6ccc97a7fb0804bf14cbdb1f70a4904cd45a06dd27fe16a3b19",
   "display_name": "Python 3.8.5 64-bit ('tensorflow': conda)"
  }
 },
 "nbformat": 4,
 "nbformat_minor": 2,
 "cells": [
  {
   "cell_type": "code",
   "execution_count": 2,
   "metadata": {},
   "outputs": [],
   "source": [
    "import numpy as np \n",
    "import pandas as pd \n",
    "from sklearn.model_selection import train_test_split\n",
    "from sklearn.metrics import roc_auc_score\n"
   ]
  },
  {
   "cell_type": "code",
   "execution_count": 3,
   "metadata": {},
   "outputs": [],
   "source": [
    "def pred_score(y_test, y_prob):\n",
    "    macro_roc_auc_ovo = roc_auc_score(y_test, y_prob, multi_class=\"ovo\",\n",
    "                                    average=\"macro\")\n",
    "    weighted_roc_auc_ovo = roc_auc_score(y_test, y_prob, multi_class=\"ovo\",\n",
    "                                        average=\"weighted\")\n",
    "    macro_roc_auc_ovr = roc_auc_score(y_test, y_prob, multi_class=\"ovr\",\n",
    "                                    average=\"macro\")\n",
    "    weighted_roc_auc_ovr = roc_auc_score(y_test, y_prob, multi_class=\"ovr\",\n",
    "                                        average=\"weighted\")\n",
    "    print(\"One-vs-One ROC AUC scores:\\n{:.6f} (macro),\\n{:.6f} \"\n",
    "        \"(weighted by prevalence)\"\n",
    "        .format(macro_roc_auc_ovo, weighted_roc_auc_ovo))\n",
    "    print(\"One-vs-Rest ROC AUC scores:\\n{:.6f} (macro),\\n{:.6f} \"\n",
    "        \"(weighted by prevalence)\"\n",
    "        .format(macro_roc_auc_ovr, weighted_roc_auc_ovr))"
   ]
  },
  {
   "cell_type": "code",
   "execution_count": 4,
   "metadata": {},
   "outputs": [
    {
     "output_type": "execute_result",
     "data": {
      "text/plain": [
       "           playType  bodyPart      x      y  interveningOpponents  \\\n",
       "0        جریان بازی  پای راست  13.47 -11.22                     1   \n",
       "1        جریان بازی    پای چپ   9.48  14.22                     3   \n",
       "2  ضربه آزاد مستقیم    پای چپ  29.43  -1.25                     6   \n",
       "3        جریان بازی  پای راست  26.93   1.00                     4   \n",
       "4        جریان بازی  پای راست  10.72   5.24                     2   \n",
       "\n",
       "   interveningTeammates interferenceOnShooter  minute  second  \\\n",
       "0                     0                 متوسط      70       9   \n",
       "1                     0                 متوسط      55       4   \n",
       "2                     2                    کم      86      31   \n",
       "3                     1                 متوسط      77       2   \n",
       "4                     0                 متوسط      76      46   \n",
       "\n",
       "                outcome  \n",
       "0                   گُل  \n",
       "1  مهار توسط دروازه بان  \n",
       "2  مهار توسط دروازه بان  \n",
       "3    موقعیت از دست رفته  \n",
       "4                   گُل  "
      ],
      "text/html": "<div>\n<style scoped>\n    .dataframe tbody tr th:only-of-type {\n        vertical-align: middle;\n    }\n\n    .dataframe tbody tr th {\n        vertical-align: top;\n    }\n\n    .dataframe thead th {\n        text-align: right;\n    }\n</style>\n<table border=\"1\" class=\"dataframe\">\n  <thead>\n    <tr style=\"text-align: right;\">\n      <th></th>\n      <th>playType</th>\n      <th>bodyPart</th>\n      <th>x</th>\n      <th>y</th>\n      <th>interveningOpponents</th>\n      <th>interveningTeammates</th>\n      <th>interferenceOnShooter</th>\n      <th>minute</th>\n      <th>second</th>\n      <th>outcome</th>\n    </tr>\n  </thead>\n  <tbody>\n    <tr>\n      <th>0</th>\n      <td>جریان بازی</td>\n      <td>پای راست</td>\n      <td>13.47</td>\n      <td>-11.22</td>\n      <td>1</td>\n      <td>0</td>\n      <td>متوسط</td>\n      <td>70</td>\n      <td>9</td>\n      <td>گُل</td>\n    </tr>\n    <tr>\n      <th>1</th>\n      <td>جریان بازی</td>\n      <td>پای چپ</td>\n      <td>9.48</td>\n      <td>14.22</td>\n      <td>3</td>\n      <td>0</td>\n      <td>متوسط</td>\n      <td>55</td>\n      <td>4</td>\n      <td>مهار توسط دروازه بان</td>\n    </tr>\n    <tr>\n      <th>2</th>\n      <td>ضربه آزاد مستقیم</td>\n      <td>پای چپ</td>\n      <td>29.43</td>\n      <td>-1.25</td>\n      <td>6</td>\n      <td>2</td>\n      <td>کم</td>\n      <td>86</td>\n      <td>31</td>\n      <td>مهار توسط دروازه بان</td>\n    </tr>\n    <tr>\n      <th>3</th>\n      <td>جریان بازی</td>\n      <td>پای راست</td>\n      <td>26.93</td>\n      <td>1.00</td>\n      <td>4</td>\n      <td>1</td>\n      <td>متوسط</td>\n      <td>77</td>\n      <td>2</td>\n      <td>موقعیت از دست رفته</td>\n    </tr>\n    <tr>\n      <th>4</th>\n      <td>جریان بازی</td>\n      <td>پای راست</td>\n      <td>10.72</td>\n      <td>5.24</td>\n      <td>2</td>\n      <td>0</td>\n      <td>متوسط</td>\n      <td>76</td>\n      <td>46</td>\n      <td>گُل</td>\n    </tr>\n  </tbody>\n</table>\n</div>"
     },
     "metadata": {},
     "execution_count": 4
    }
   ],
   "source": [
    "df=pd.read_csv('train.csv').drop(['matchId','playerId'],axis=1)\n",
    "df_test=pd.read_csv('test.csv')\n",
    "\n",
    "df.head()"
   ]
  },
  {
   "cell_type": "code",
   "execution_count": 5,
   "metadata": {},
   "outputs": [],
   "source": [
    "y=df['outcome'].copy()\n",
    "y[(y=='گُل') | (y=='گُل به خودی')]=1\n",
    "y[(y=='برخورد به تیردروازه') |(y=='مهار توسط دروازه بان') |( y=='موقعیت از دست رفته') |(y=='برخورد به دفاع')]=0\n",
    "\n",
    "X=df.drop('outcome',axis=1)\n",
    "\n",
    "X_test=df_test\n",
    "\n",
    "X.loc[X['interferenceOnShooter'].isnull(), 'interferenceOnShooter'] = 'بیش از یک بازیکن'\n",
    "X_test.loc[X_test['interferenceOnShooter'].isnull(), 'interferenceOnShooter'] = 'بیش از یک بازیکن'\n",
    "\n",
    "\n",
    "# X.drop(['minute','second'],axis=1)\n",
    "# X_test.drop(['minute','second'],axis=1)\n"
   ]
  },
  {
   "cell_type": "code",
   "execution_count": 6,
   "metadata": {},
   "outputs": [
    {
     "output_type": "stream",
     "name": "stdout",
     "text": [
      "train size is (8925, 9)\ntest size is (2000, 9)\nmissing val count by column Series([], dtype: int64)\n"
     ]
    }
   ],
   "source": [
    "# Shape of training data (num_rows, num_columns)\n",
    "print(\"train size is {}\".format(X.shape))\n",
    "print(\"test size is {}\".format(X_test.shape))\n",
    "\n",
    "# Number of missing values in each column of training data\n",
    "missing_val_count_by_column = (X.isnull().sum())\n",
    "print(\"missing val count by column {}\".format(missing_val_count_by_column[missing_val_count_by_column > 0]))"
   ]
  },
  {
   "cell_type": "code",
   "execution_count": 7,
   "metadata": {},
   "outputs": [
    {
     "output_type": "stream",
     "name": "stdout",
     "text": [
      "Categorical variables:\n['playType', 'bodyPart', 'interferenceOnShooter']\n"
     ]
    }
   ],
   "source": [
    "# Get list of categorical variables\n",
    "s = (X.dtypes == 'object')\n",
    "object_cols = list(s[s].index)\n",
    "\n",
    "print(\"Categorical variables:\")\n",
    "print(object_cols)"
   ]
  },
  {
   "cell_type": "code",
   "execution_count": 8,
   "metadata": {},
   "outputs": [
    {
     "output_type": "stream",
     "name": "stdout",
     "text": [
      "train shape (8925, 18)\ntest shape (2000, 18)\n"
     ]
    }
   ],
   "source": [
    "from sklearn.preprocessing import OneHotEncoder,LabelEncoder\n",
    "\n",
    "# Apply one-hot encoder to each column with categorical data\n",
    "OH_encoder = OneHotEncoder(handle_unknown='error', sparse=False,dtype=np.int64)\n",
    "train_X_encoded=OH_encoder.fit_transform(X[object_cols])\n",
    "column_name=OH_encoder.get_feature_names(object_cols)\n",
    "\n",
    "OH_cols_train = pd.DataFrame(train_X_encoded, columns= column_name)\n",
    "OH_cols_test = pd.DataFrame(OH_encoder.transform(X_test[object_cols]), columns= column_name)\n",
    "\n",
    "# One-hot encoding removed index; put it back\n",
    "OH_cols_train.index = X.index\n",
    "OH_cols_test.index = X_test.index\n",
    "\n",
    "# Remove categorical columns (will replace with one-hot encoding)\n",
    "num_X = X.drop(object_cols, axis=1)\n",
    "num_X_test = X_test.drop(object_cols, axis=1)\n",
    "\n",
    "# Add one-hot encoded columns to numerical features\n",
    "OH_X = pd.concat([num_X, OH_cols_train], axis=1)\n",
    "OH_X_test = pd.concat([num_X_test, OH_cols_test], axis=1)\n",
    "print('train shape',OH_X.shape)\n",
    "print('test shape',OH_X_test.shape)"
   ]
  },
  {
   "cell_type": "code",
   "execution_count": 9,
   "metadata": {},
   "outputs": [],
   "source": [
    "y=y.astype('int')\n",
    "x_train, x_test, y_train, y_test = train_test_split(OH_X, y,test_size=0.35,random_state=0)\n"
   ]
  },
  {
   "cell_type": "code",
   "execution_count": 16,
   "metadata": {},
   "outputs": [],
   "source": [
    "from sklearn import svm\n",
    "SVM = svm.SVC(probability=True)\n",
    "SVM.fit(OH_X, y)\n",
    "y_prob=SVM.predict_proba(OH_X_test)"
   ]
  },
  {
   "cell_type": "code",
   "execution_count": null,
   "metadata": {},
   "outputs": [],
   "source": []
  },
  {
   "cell_type": "code",
   "execution_count": 19,
   "metadata": {},
   "outputs": [],
   "source": [
    "df=pd.DataFrame(y_prob[:,1])\n",
    "df.to_csv('output.csv')"
   ]
  },
  {
   "cell_type": "code",
   "execution_count": null,
   "metadata": {},
   "outputs": [],
   "source": []
  }
 ]
}