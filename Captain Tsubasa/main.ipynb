{
 "metadata": {
  "language_info": {
   "codemirror_mode": {
    "name": "ipython",
    "version": 3
   },
   "file_extension": ".py",
   "mimetype": "text/x-python",
   "name": "python",
   "nbconvert_exporter": "python",
   "pygments_lexer": "ipython3",
   "version": "3.8.5"
  },
  "orig_nbformat": 2,
  "kernelspec": {
   "name": "python385jvsc74a57bd09ec957caba7ae6ccc97a7fb0804bf14cbdb1f70a4904cd45a06dd27fe16a3b19",
   "display_name": "Python 3.8.5 64-bit ('tensorflow': conda)"
  }
 },
 "nbformat": 4,
 "nbformat_minor": 2,
 "cells": [
  {
   "cell_type": "code",
   "execution_count": 165,
   "metadata": {},
   "outputs": [],
   "source": [
    "import numpy as np \n",
    "import pandas as pd \n"
   ]
  },
  {
   "cell_type": "code",
   "execution_count": 166,
   "metadata": {},
   "outputs": [
    {
     "output_type": "execute_result",
     "data": {
      "text/plain": [
       "  matchId playerId          playType  bodyPart      x      y  \\\n",
       "0    m_91    p_103        جریان بازی  پای راست  13.47 -11.22   \n",
       "1    m_17     p_16        جریان بازی    پای چپ   9.48  14.22   \n",
       "2   m_111     p_88  ضربه آزاد مستقیم    پای چپ  29.43  -1.25   \n",
       "3   m_142     p_87        جریان بازی  پای راست  26.93   1.00   \n",
       "4   m_117      p_9        جریان بازی  پای راست  10.72   5.24   \n",
       "\n",
       "   interveningOpponents  interveningTeammates interferenceOnShooter  minute  \\\n",
       "0                     1                     0                 متوسط      70   \n",
       "1                     3                     0                 متوسط      55   \n",
       "2                     6                     2                    کم      86   \n",
       "3                     4                     1                 متوسط      77   \n",
       "4                     2                     0                 متوسط      76   \n",
       "\n",
       "   second               outcome  counts  \n",
       "0       9                   گُل       1  \n",
       "1       4  مهار توسط دروازه بان       1  \n",
       "2      31  مهار توسط دروازه بان       1  \n",
       "3       2    موقعیت از دست رفته       1  \n",
       "4      46                   گُل       1  "
      ],
      "text/html": "<div>\n<style scoped>\n    .dataframe tbody tr th:only-of-type {\n        vertical-align: middle;\n    }\n\n    .dataframe tbody tr th {\n        vertical-align: top;\n    }\n\n    .dataframe thead th {\n        text-align: right;\n    }\n</style>\n<table border=\"1\" class=\"dataframe\">\n  <thead>\n    <tr style=\"text-align: right;\">\n      <th></th>\n      <th>matchId</th>\n      <th>playerId</th>\n      <th>playType</th>\n      <th>bodyPart</th>\n      <th>x</th>\n      <th>y</th>\n      <th>interveningOpponents</th>\n      <th>interveningTeammates</th>\n      <th>interferenceOnShooter</th>\n      <th>minute</th>\n      <th>second</th>\n      <th>outcome</th>\n      <th>counts</th>\n    </tr>\n  </thead>\n  <tbody>\n    <tr>\n      <th>0</th>\n      <td>m_91</td>\n      <td>p_103</td>\n      <td>جریان بازی</td>\n      <td>پای راست</td>\n      <td>13.47</td>\n      <td>-11.22</td>\n      <td>1</td>\n      <td>0</td>\n      <td>متوسط</td>\n      <td>70</td>\n      <td>9</td>\n      <td>گُل</td>\n      <td>1</td>\n    </tr>\n    <tr>\n      <th>1</th>\n      <td>m_17</td>\n      <td>p_16</td>\n      <td>جریان بازی</td>\n      <td>پای چپ</td>\n      <td>9.48</td>\n      <td>14.22</td>\n      <td>3</td>\n      <td>0</td>\n      <td>متوسط</td>\n      <td>55</td>\n      <td>4</td>\n      <td>مهار توسط دروازه بان</td>\n      <td>1</td>\n    </tr>\n    <tr>\n      <th>2</th>\n      <td>m_111</td>\n      <td>p_88</td>\n      <td>ضربه آزاد مستقیم</td>\n      <td>پای چپ</td>\n      <td>29.43</td>\n      <td>-1.25</td>\n      <td>6</td>\n      <td>2</td>\n      <td>کم</td>\n      <td>86</td>\n      <td>31</td>\n      <td>مهار توسط دروازه بان</td>\n      <td>1</td>\n    </tr>\n    <tr>\n      <th>3</th>\n      <td>m_142</td>\n      <td>p_87</td>\n      <td>جریان بازی</td>\n      <td>پای راست</td>\n      <td>26.93</td>\n      <td>1.00</td>\n      <td>4</td>\n      <td>1</td>\n      <td>متوسط</td>\n      <td>77</td>\n      <td>2</td>\n      <td>موقعیت از دست رفته</td>\n      <td>1</td>\n    </tr>\n    <tr>\n      <th>4</th>\n      <td>m_117</td>\n      <td>p_9</td>\n      <td>جریان بازی</td>\n      <td>پای راست</td>\n      <td>10.72</td>\n      <td>5.24</td>\n      <td>2</td>\n      <td>0</td>\n      <td>متوسط</td>\n      <td>76</td>\n      <td>46</td>\n      <td>گُل</td>\n      <td>1</td>\n    </tr>\n  </tbody>\n</table>\n</div>"
     },
     "metadata": {},
     "execution_count": 166
    }
   ],
   "source": [
    "df=pd.read_csv('train.csv')\n",
    "df['counts']=1\n",
    "\n",
    "df.head()"
   ]
  },
  {
   "cell_type": "code",
   "execution_count": 167,
   "metadata": {},
   "outputs": [
    {
     "output_type": "execute_result",
     "data": {
      "text/plain": [
       "160"
      ]
     },
     "metadata": {},
     "execution_count": 167
    }
   ],
   "source": [
    "df1=df.copy()\n",
    "len(df1['playerId'].unique())"
   ]
  },
  {
   "cell_type": "code",
   "execution_count": 168,
   "metadata": {},
   "outputs": [
    {
     "output_type": "execute_result",
     "data": {
      "text/plain": [
       "playerId\n",
       "p_18    16\n",
       "p_6     14\n",
       "Name: playerId, dtype: int64"
      ]
     },
     "metadata": {},
     "execution_count": 168
    }
   ],
   "source": [
    "df2=df.copy()\n",
    "df2[df2[\"outcome\"]==\"گُل\"].groupby('playerId', sort=True)['playerId'].count().nlargest(2)"
   ]
  },
  {
   "cell_type": "code",
   "execution_count": 184,
   "metadata": {},
   "outputs": [
    {
     "output_type": "execute_result",
     "data": {
      "text/plain": [
       "              mean\n",
       "playerId          \n",
       "p_18      0.253968\n",
       "p_44      0.224490\n",
       "p_6       0.218750\n",
       "p_105     0.210526\n",
       "p_81      0.208333\n",
       "...            ...\n",
       "p_25      0.040816\n",
       "p_118     0.037736\n",
       "p_151     0.037037\n",
       "p_141     0.033333\n",
       "p_147     0.028986\n",
       "\n",
       "[160 rows x 1 columns]"
      ],
      "text/html": "<div>\n<style scoped>\n    .dataframe tbody tr th:only-of-type {\n        vertical-align: middle;\n    }\n\n    .dataframe tbody tr th {\n        vertical-align: top;\n    }\n\n    .dataframe thead th {\n        text-align: right;\n    }\n</style>\n<table border=\"1\" class=\"dataframe\">\n  <thead>\n    <tr style=\"text-align: right;\">\n      <th></th>\n      <th>mean</th>\n    </tr>\n    <tr>\n      <th>playerId</th>\n      <th></th>\n    </tr>\n  </thead>\n  <tbody>\n    <tr>\n      <th>p_18</th>\n      <td>0.253968</td>\n    </tr>\n    <tr>\n      <th>p_44</th>\n      <td>0.224490</td>\n    </tr>\n    <tr>\n      <th>p_6</th>\n      <td>0.218750</td>\n    </tr>\n    <tr>\n      <th>p_105</th>\n      <td>0.210526</td>\n    </tr>\n    <tr>\n      <th>p_81</th>\n      <td>0.208333</td>\n    </tr>\n    <tr>\n      <th>...</th>\n      <td>...</td>\n    </tr>\n    <tr>\n      <th>p_25</th>\n      <td>0.040816</td>\n    </tr>\n    <tr>\n      <th>p_118</th>\n      <td>0.037736</td>\n    </tr>\n    <tr>\n      <th>p_151</th>\n      <td>0.037037</td>\n    </tr>\n    <tr>\n      <th>p_141</th>\n      <td>0.033333</td>\n    </tr>\n    <tr>\n      <th>p_147</th>\n      <td>0.028986</td>\n    </tr>\n  </tbody>\n</table>\n<p>160 rows × 1 columns</p>\n</div>"
     },
     "metadata": {},
     "execution_count": 184
    }
   ],
   "source": [
    "df3=df.copy()\n",
    "df3['out']=0\n",
    "df3.loc[df3['outcome']=='گُل', 'out'] = 1\n",
    "\n",
    "df3_group=df3.groupby(['playerId'])['out'].agg([np.mean])\n",
    "df3_group.sort_values(['mean'], ascending=False)\n"
   ]
  },
  {
   "cell_type": "code",
   "execution_count": 187,
   "metadata": {},
   "outputs": [
    {
     "output_type": "execute_result",
     "data": {
      "text/plain": [
       "     matchId playerId    playType  bodyPart      x      y  \\\n",
       "7013    m_82     p_30  جریان بازی        سر  70.82 -11.72   \n",
       "4432    m_19     p_99  جریان بازی  پای راست  64.84  -1.00   \n",
       "6974    m_24    p_113  جریان بازی    پای چپ  59.85 -11.22   \n",
       "3031    m_96      p_2  جریان بازی  پای راست  58.85   6.48   \n",
       "1666   m_195    p_159  جریان بازی  پای راست  56.86  12.47   \n",
       "...      ...      ...         ...       ...    ...    ...   \n",
       "7553   m_200    p_130  جریان بازی  پای راست   0.50   1.50   \n",
       "8495   m_124     p_20  جریان بازی      سایر   0.25  -1.25   \n",
       "8607   m_215    p_139  جریان بازی  پای راست   1.00   0.25   \n",
       "5332    m_70     p_16  جریان بازی      سایر   0.25   0.75   \n",
       "2822    m_56    p_115  جریان بازی    پای چپ   0.25   0.25   \n",
       "\n",
       "      interveningOpponents  interveningTeammates interferenceOnShooter  \\\n",
       "7013                     2                     0                 متوسط   \n",
       "4432                     4                     0                    کم   \n",
       "6974                     1                     0                    کم   \n",
       "3031                     2                     0                    کم   \n",
       "1666                     2                     0                    کم   \n",
       "...                    ...                   ...                   ...   \n",
       "7553                     0                     0                    کم   \n",
       "8495                     0                     0                   NaN   \n",
       "8607                     2                     0                 متوسط   \n",
       "5332                     0                     0                    کم   \n",
       "2822                     0                     0                 متوسط   \n",
       "\n",
       "      minute  second               outcome  counts     max_xy  \n",
       "7013      34      33  مهار توسط دروازه بان       1  71.783221  \n",
       "4432      23      25  مهار توسط دروازه بان       1  64.847711  \n",
       "6974      83      36  مهار توسط دروازه بان       1  60.892618  \n",
       "3031      87      26                   گُل       1  59.205683  \n",
       "1666      82      20    موقعیت از دست رفته       1  58.211343  \n",
       "...      ...     ...                   ...     ...        ...  \n",
       "7553      75      28                   گُل       1   1.581139  \n",
       "8495      75      40           گُل به خودی       1   1.274755  \n",
       "8607      41       4                   گُل       1   1.030776  \n",
       "5332      36      24                   گُل       1   0.790569  \n",
       "2822      51       4                   گُل       1   0.353553  \n",
       "\n",
       "[8925 rows x 14 columns]"
      ],
      "text/html": "<div>\n<style scoped>\n    .dataframe tbody tr th:only-of-type {\n        vertical-align: middle;\n    }\n\n    .dataframe tbody tr th {\n        vertical-align: top;\n    }\n\n    .dataframe thead th {\n        text-align: right;\n    }\n</style>\n<table border=\"1\" class=\"dataframe\">\n  <thead>\n    <tr style=\"text-align: right;\">\n      <th></th>\n      <th>matchId</th>\n      <th>playerId</th>\n      <th>playType</th>\n      <th>bodyPart</th>\n      <th>x</th>\n      <th>y</th>\n      <th>interveningOpponents</th>\n      <th>interveningTeammates</th>\n      <th>interferenceOnShooter</th>\n      <th>minute</th>\n      <th>second</th>\n      <th>outcome</th>\n      <th>counts</th>\n      <th>max_xy</th>\n    </tr>\n  </thead>\n  <tbody>\n    <tr>\n      <th>7013</th>\n      <td>m_82</td>\n      <td>p_30</td>\n      <td>جریان بازی</td>\n      <td>سر</td>\n      <td>70.82</td>\n      <td>-11.72</td>\n      <td>2</td>\n      <td>0</td>\n      <td>متوسط</td>\n      <td>34</td>\n      <td>33</td>\n      <td>مهار توسط دروازه بان</td>\n      <td>1</td>\n      <td>71.783221</td>\n    </tr>\n    <tr>\n      <th>4432</th>\n      <td>m_19</td>\n      <td>p_99</td>\n      <td>جریان بازی</td>\n      <td>پای راست</td>\n      <td>64.84</td>\n      <td>-1.00</td>\n      <td>4</td>\n      <td>0</td>\n      <td>کم</td>\n      <td>23</td>\n      <td>25</td>\n      <td>مهار توسط دروازه بان</td>\n      <td>1</td>\n      <td>64.847711</td>\n    </tr>\n    <tr>\n      <th>6974</th>\n      <td>m_24</td>\n      <td>p_113</td>\n      <td>جریان بازی</td>\n      <td>پای چپ</td>\n      <td>59.85</td>\n      <td>-11.22</td>\n      <td>1</td>\n      <td>0</td>\n      <td>کم</td>\n      <td>83</td>\n      <td>36</td>\n      <td>مهار توسط دروازه بان</td>\n      <td>1</td>\n      <td>60.892618</td>\n    </tr>\n    <tr>\n      <th>3031</th>\n      <td>m_96</td>\n      <td>p_2</td>\n      <td>جریان بازی</td>\n      <td>پای راست</td>\n      <td>58.85</td>\n      <td>6.48</td>\n      <td>2</td>\n      <td>0</td>\n      <td>کم</td>\n      <td>87</td>\n      <td>26</td>\n      <td>گُل</td>\n      <td>1</td>\n      <td>59.205683</td>\n    </tr>\n    <tr>\n      <th>1666</th>\n      <td>m_195</td>\n      <td>p_159</td>\n      <td>جریان بازی</td>\n      <td>پای راست</td>\n      <td>56.86</td>\n      <td>12.47</td>\n      <td>2</td>\n      <td>0</td>\n      <td>کم</td>\n      <td>82</td>\n      <td>20</td>\n      <td>موقعیت از دست رفته</td>\n      <td>1</td>\n      <td>58.211343</td>\n    </tr>\n    <tr>\n      <th>...</th>\n      <td>...</td>\n      <td>...</td>\n      <td>...</td>\n      <td>...</td>\n      <td>...</td>\n      <td>...</td>\n      <td>...</td>\n      <td>...</td>\n      <td>...</td>\n      <td>...</td>\n      <td>...</td>\n      <td>...</td>\n      <td>...</td>\n      <td>...</td>\n    </tr>\n    <tr>\n      <th>7553</th>\n      <td>m_200</td>\n      <td>p_130</td>\n      <td>جریان بازی</td>\n      <td>پای راست</td>\n      <td>0.50</td>\n      <td>1.50</td>\n      <td>0</td>\n      <td>0</td>\n      <td>کم</td>\n      <td>75</td>\n      <td>28</td>\n      <td>گُل</td>\n      <td>1</td>\n      <td>1.581139</td>\n    </tr>\n    <tr>\n      <th>8495</th>\n      <td>m_124</td>\n      <td>p_20</td>\n      <td>جریان بازی</td>\n      <td>سایر</td>\n      <td>0.25</td>\n      <td>-1.25</td>\n      <td>0</td>\n      <td>0</td>\n      <td>NaN</td>\n      <td>75</td>\n      <td>40</td>\n      <td>گُل به خودی</td>\n      <td>1</td>\n      <td>1.274755</td>\n    </tr>\n    <tr>\n      <th>8607</th>\n      <td>m_215</td>\n      <td>p_139</td>\n      <td>جریان بازی</td>\n      <td>پای راست</td>\n      <td>1.00</td>\n      <td>0.25</td>\n      <td>2</td>\n      <td>0</td>\n      <td>متوسط</td>\n      <td>41</td>\n      <td>4</td>\n      <td>گُل</td>\n      <td>1</td>\n      <td>1.030776</td>\n    </tr>\n    <tr>\n      <th>5332</th>\n      <td>m_70</td>\n      <td>p_16</td>\n      <td>جریان بازی</td>\n      <td>سایر</td>\n      <td>0.25</td>\n      <td>0.75</td>\n      <td>0</td>\n      <td>0</td>\n      <td>کم</td>\n      <td>36</td>\n      <td>24</td>\n      <td>گُل</td>\n      <td>1</td>\n      <td>0.790569</td>\n    </tr>\n    <tr>\n      <th>2822</th>\n      <td>m_56</td>\n      <td>p_115</td>\n      <td>جریان بازی</td>\n      <td>پای چپ</td>\n      <td>0.25</td>\n      <td>0.25</td>\n      <td>0</td>\n      <td>0</td>\n      <td>متوسط</td>\n      <td>51</td>\n      <td>4</td>\n      <td>گُل</td>\n      <td>1</td>\n      <td>0.353553</td>\n    </tr>\n  </tbody>\n</table>\n<p>8925 rows × 14 columns</p>\n</div>"
     },
     "metadata": {},
     "execution_count": 187
    }
   ],
   "source": [
    "df4=df.copy()\n",
    "df4['max_xy']=np.sqrt(df4['x']**2+df4['y']**2)\n",
    "df4.sort_values(['max_xy'], ascending=False)"
   ]
  },
  {
   "cell_type": "code",
   "execution_count": null,
   "metadata": {},
   "outputs": [],
   "source": []
  }
 ]
}