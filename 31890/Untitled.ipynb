{
 "cells": [
  {
   "cell_type": "code",
   "execution_count": 154,
   "metadata": {},
   "outputs": [],
   "source": [
    "state=['agar 2 == 2 : A = 3',\n",
    "'agar 3 == 4 : B = 1',\n",
    "'khoorooji(A)']\n",
    "inputs=[]"
   ]
  },
  {
   "cell_type": "code",
   "execution_count": 156,
   "metadata": {},
   "outputs": [],
   "source": [
    "state=['A = 3',\n",
    "'B = voroodi()',\n",
    "'C = A + B',\n",
    "'khoorooji(10)',\n",
    "'khoorooji(C, 2)']\n",
    "inputs=[3]"
   ]
  },
  {
   "cell_type": "code",
   "execution_count": 152,
   "metadata": {},
   "outputs": [],
   "source": [
    "state=['A = voroodi()',\n",
    "'agar A == 2 : A = A + 2',\n",
    "'khoorooji(A)'\n",
    "]\n",
    "inputs=[2]"
   ]
  },
  {
   "cell_type": "code",
   "execution_count": 157,
   "metadata": {},
   "outputs": [
    {
     "name": "stdout",
     "output_type": "stream",
     "text": [
      "10\n",
      "6 2\n",
      "3\n"
     ]
    }
   ],
   "source": [
    "\n",
    "counter=[]\n",
    "def NotcheckCounter(item):\n",
    "    b=counter.count(item)\n",
    "    if b==0:\n",
    "        return(True)\n",
    "    else:\n",
    "        return(False)\n",
    "        \n",
    "    \n",
    "def changeFunc(item):\n",
    "    if item.find('voroodi()') != -1:\n",
    "        st_item=str(item.split('=')[0].strip())\n",
    "        if NotcheckCounter(st_item):\n",
    "            counter.append(st_item)\n",
    "        item = item.replace('voroodi()', 'int('+str(inputs[0])+')')\n",
    "        inputs.pop(0)\n",
    "    elif item.find('khoorooji') != -1:\n",
    "        item = item.replace('khoorooji', 'print')\n",
    "\n",
    "    elif item.find('agar') != -1:\n",
    "        item = item.replace('agar', 'if').replace(':', ':\\n\\t')\n",
    "        st_item=str(item.split(':')[1].strip().split('=')[0].strip())\n",
    "        if NotcheckCounter(st_item)==True:\n",
    "            item+='\\n\\t s+=1'\n",
    "\n",
    "    elif item.find('=') != -1:\n",
    "        st_item=str(item.split('=')[0].strip())\n",
    "        if NotcheckCounter(st_item):\n",
    "            counter.append(st_item)\n",
    "\n",
    "    return item\n",
    "s=0\n",
    "\n",
    "statements = [changeFunc(item) for item in state]\n",
    "exec('\\n'.join(statements))\n",
    "print(len(counter)+s)\n"
   ]
  },
  {
   "cell_type": "code",
   "execution_count": 144,
   "metadata": {},
   "outputs": [
    {
     "data": {
      "text/plain": [
       "['A']"
      ]
     },
     "execution_count": 144,
     "metadata": {},
     "output_type": "execute_result"
    }
   ],
   "source": [
    "counter"
   ]
  },
  {
   "cell_type": "code",
   "execution_count": 145,
   "metadata": {},
   "outputs": [
    {
     "data": {
      "text/plain": [
       "1"
      ]
     },
     "execution_count": 145,
     "metadata": {},
     "output_type": "execute_result"
    }
   ],
   "source": [
    "s\n"
   ]
  },
  {
   "cell_type": "code",
   "execution_count": 123,
   "metadata": {},
   "outputs": [
    {
     "data": {
      "text/plain": [
       "4"
      ]
     },
     "execution_count": 123,
     "metadata": {},
     "output_type": "execute_result"
    }
   ],
   "source": [
    "A"
   ]
  },
  {
   "cell_type": "code",
   "execution_count": 124,
   "metadata": {},
   "outputs": [
    {
     "data": {
      "text/plain": [
       "1"
      ]
     },
     "execution_count": 124,
     "metadata": {},
     "output_type": "execute_result"
    }
   ],
   "source": [
    "s"
   ]
  },
  {
   "cell_type": "code",
   "execution_count": 125,
   "metadata": {},
   "outputs": [
    {
     "data": {
      "text/plain": [
       "['A']"
      ]
     },
     "execution_count": 125,
     "metadata": {},
     "output_type": "execute_result"
    }
   ],
   "source": [
    "counter"
   ]
  },
  {
   "cell_type": "code",
   "execution_count": null,
   "metadata": {},
   "outputs": [],
   "source": []
  }
 ],
 "metadata": {
  "kernelspec": {
   "display_name": "Python 3",
   "language": "python",
   "name": "python3"
  },
  "language_info": {
   "codemirror_mode": {
    "name": "ipython",
    "version": 3
   },
   "file_extension": ".py",
   "mimetype": "text/x-python",
   "name": "python",
   "nbconvert_exporter": "python",
   "pygments_lexer": "ipython3",
   "version": "3.7.9"
  }
 },
 "nbformat": 4,
 "nbformat_minor": 4
}
